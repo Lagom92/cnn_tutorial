{
 "cells": [
  {
   "cell_type": "markdown",
   "id": "packed-celebration",
   "metadata": {},
   "source": [
    "# Data split\n",
    "\n",
    "train, validation, test = 0.7, 0.2, 0.1"
   ]
  },
  {
   "cell_type": "code",
   "execution_count": 15,
   "id": "federal-poland",
   "metadata": {},
   "outputs": [],
   "source": [
    "import os\n",
    "import shutil"
   ]
  },
  {
   "cell_type": "code",
   "execution_count": 3,
   "id": "blond-funeral",
   "metadata": {},
   "outputs": [
    {
     "data": {
      "text/plain": [
       "4647"
      ]
     },
     "execution_count": 3,
     "metadata": {},
     "output_type": "execute_result"
    }
   ],
   "source": [
    "data_lst = os.listdir('../data')\n",
    "\n",
    "len(data_lst)"
   ]
  },
  {
   "cell_type": "code",
   "execution_count": 7,
   "id": "personal-settlement",
   "metadata": {},
   "outputs": [
    {
     "data": {
      "text/plain": [
       "('train_annotation.txt',\n",
       " 'resized_train_annotation.txt',\n",
       " 'img',\n",
       " '5d70c044e4b0aa5058b2f555.txt')"
      ]
     },
     "execution_count": 7,
     "metadata": {},
     "output_type": "execute_result"
    }
   ],
   "source": [
    "data_lst[-1], data_lst[-2], data_lst[-3], data_lst[-4]"
   ]
  },
  {
   "cell_type": "code",
   "execution_count": 11,
   "id": "pursuant-correspondence",
   "metadata": {},
   "outputs": [
    {
     "name": "stdout",
     "output_type": "stream",
     "text": [
      "2322 2322\n"
     ]
    }
   ],
   "source": [
    "txt_lst, jpg_lst = [], []\n",
    "for data in data_lst[:-3]:\n",
    "    if data.endswith('.txt'):\n",
    "        txt_lst.append(data)\n",
    "    elif data.endswith('.jpg'):\n",
    "        jpg_lst.append(data)\n",
    "    else:\n",
    "        pass\n",
    "    \n",
    "txt_lst.sort()\n",
    "jpg_lst.sort()\n",
    "\n",
    "print(len(txt_lst), len(jpg_lst))"
   ]
  },
  {
   "cell_type": "code",
   "execution_count": 14,
   "id": "molecular-february",
   "metadata": {},
   "outputs": [
    {
     "data": {
      "text/plain": [
       "(1625.3999999999999, 464.40000000000003, 232.20000000000002)"
      ]
     },
     "execution_count": 14,
     "metadata": {},
     "output_type": "execute_result"
    }
   ],
   "source": [
    "# 7:2:1 비율(count 계산)\n",
    "2322*0.7, 2322*0.2, 2322*0.1"
   ]
  },
  {
   "cell_type": "code",
   "execution_count": 35,
   "id": "desirable-preparation",
   "metadata": {},
   "outputs": [
    {
     "data": {
      "text/plain": [
       "[]"
      ]
     },
     "execution_count": 35,
     "metadata": {},
     "output_type": "execute_result"
    }
   ],
   "source": [
    "if not(os.path.isdir('../src/')):\n",
    "        os.makedirs(os.path.join('../src/'))\n",
    "\n",
    "os.listdir('../src/')"
   ]
  },
  {
   "cell_type": "code",
   "execution_count": 36,
   "id": "sunset-offset",
   "metadata": {},
   "outputs": [
    {
     "name": "stdout",
     "output_type": "stream",
     "text": [
      "1625\n",
      "3250\n"
     ]
    }
   ],
   "source": [
    "if not(os.path.isdir('../src/train/')):\n",
    "        os.makedirs(os.path.join('../src/train/'))\n",
    "\n",
    "# Train data\n",
    "for data in txt_lst[:1625]:\n",
    "    org_data = '../data/' + data\n",
    "    cop_data = '../src/train/' + data\n",
    "    \n",
    "    shutil.copyfile(org_data, cop_data)\n",
    "\n",
    "print(len(os.listdir('../src/train/')))\n",
    "\n",
    "for data in jpg_lst[:1625]:\n",
    "    org_data = '../data/' + data\n",
    "    cop_data = '../src/train/' + data\n",
    "    \n",
    "    shutil.copyfile(org_data, cop_data)\n",
    "\n",
    "print(len(os.listdir('../src/train/')))"
   ]
  },
  {
   "cell_type": "code",
   "execution_count": 37,
   "id": "significant-pollution",
   "metadata": {},
   "outputs": [
    {
     "name": "stdout",
     "output_type": "stream",
     "text": [
      "465\n",
      "930\n"
     ]
    }
   ],
   "source": [
    "if not(os.path.isdir('../src/val/')):\n",
    "        os.makedirs(os.path.join('../src/val/'))\n",
    "        \n",
    "# Validation data\n",
    "for data in txt_lst[1625:2090]:\n",
    "    org_data = '../data/' + data\n",
    "    cop_data = '../src/val/' + data\n",
    "    \n",
    "    shutil.copyfile(org_data, cop_data)\n",
    "\n",
    "print(len(os.listdir('../src/val/')))\n",
    "\n",
    "for data in jpg_lst[1625:2090]:\n",
    "    org_data = '../data/' + data\n",
    "    cop_data = '../src/val/' + data\n",
    "    \n",
    "    shutil.copyfile(org_data, cop_data)\n",
    "\n",
    "print(len(os.listdir('../src/val/')))"
   ]
  },
  {
   "cell_type": "code",
   "execution_count": 38,
   "id": "educational-diameter",
   "metadata": {},
   "outputs": [
    {
     "name": "stdout",
     "output_type": "stream",
     "text": [
      "229\n",
      "458\n"
     ]
    }
   ],
   "source": [
    "if not(os.path.isdir('../src/test/')):\n",
    "        os.makedirs(os.path.join('../src/test/'))\n",
    "\n",
    "# Test data\n",
    "for data in txt_lst[2090:-3]:\n",
    "    org_data = '../data/' + data\n",
    "    cop_data = '../src/test/' + data\n",
    "    \n",
    "    shutil.copyfile(org_data, cop_data)\n",
    "\n",
    "print(len(os.listdir('../src/test/')))\n",
    "\n",
    "for data in jpg_lst[2090:-3]:\n",
    "    org_data = '../data/' + data\n",
    "    cop_data = '../src/test/' + data\n",
    "    \n",
    "    shutil.copyfile(org_data, cop_data)\n",
    "\n",
    "print(len(os.listdir('../src/test/')))"
   ]
  },
  {
   "cell_type": "code",
   "execution_count": null,
   "id": "musical-forty",
   "metadata": {},
   "outputs": [],
   "source": []
  }
 ],
 "metadata": {
  "kernelspec": {
   "display_name": "Python 3",
   "language": "python",
   "name": "python3"
  },
  "language_info": {
   "codemirror_mode": {
    "name": "ipython",
    "version": 3
   },
   "file_extension": ".py",
   "mimetype": "text/x-python",
   "name": "python",
   "nbconvert_exporter": "python",
   "pygments_lexer": "ipython3",
   "version": "3.7.10"
  }
 },
 "nbformat": 4,
 "nbformat_minor": 5
}
