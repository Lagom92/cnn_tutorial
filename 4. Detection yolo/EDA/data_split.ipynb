{
 "cells": [
  {
   "cell_type": "markdown",
   "id": "applied-absorption",
   "metadata": {},
   "source": [
    "# Data split\n",
    "\n",
    "train, validation, test = 0.7, 0.2, 0.1"
   ]
  },
  {
   "cell_type": "code",
   "execution_count": 10,
   "id": "upset-honey",
   "metadata": {},
   "outputs": [],
   "source": [
    "import os\n",
    "import shutil"
   ]
  },
  {
   "cell_type": "code",
   "execution_count": 11,
   "id": "maritime-chuck",
   "metadata": {},
   "outputs": [
    {
     "data": {
      "text/plain": [
       "4647"
      ]
     },
     "execution_count": 11,
     "metadata": {},
     "output_type": "execute_result"
    }
   ],
   "source": [
    "data_lst = os.listdir('../src')\n",
    "\n",
    "len(data_lst)"
   ]
  },
  {
   "cell_type": "code",
   "execution_count": 12,
   "id": "sound-proof",
   "metadata": {},
   "outputs": [
    {
     "data": {
      "text/plain": [
       "('train_annotation.txt',\n",
       " 'resized_train_annotation.txt',\n",
       " 'img',\n",
       " '5d70c044e4b0aa5058b2f555.txt')"
      ]
     },
     "execution_count": 12,
     "metadata": {},
     "output_type": "execute_result"
    }
   ],
   "source": [
    "data_lst[-1], data_lst[-2], data_lst[-3], data_lst[-4]"
   ]
  },
  {
   "cell_type": "code",
   "execution_count": 13,
   "id": "engaging-workstation",
   "metadata": {},
   "outputs": [
    {
     "name": "stdout",
     "output_type": "stream",
     "text": [
      "2322 2322\n"
     ]
    }
   ],
   "source": [
    "txt_lst, jpg_lst = [], []\n",
    "for data in data_lst[:-3]:\n",
    "    if data.endswith('.txt'):\n",
    "        txt_lst.append(data)\n",
    "    elif data.endswith('.jpg'):\n",
    "        jpg_lst.append(data)\n",
    "    else:\n",
    "        pass\n",
    "    \n",
    "txt_lst.sort()\n",
    "jpg_lst.sort()\n",
    "\n",
    "print(len(txt_lst), len(jpg_lst))"
   ]
  },
  {
   "cell_type": "code",
   "execution_count": 14,
   "id": "major-running",
   "metadata": {},
   "outputs": [
    {
     "data": {
      "text/plain": [
       "(1625.3999999999999, 464.40000000000003, 232.20000000000002)"
      ]
     },
     "execution_count": 14,
     "metadata": {},
     "output_type": "execute_result"
    }
   ],
   "source": [
    "# 7:2:1 비율(count 계산)\n",
    "2322*0.7, 2322*0.2, 2322*0.1"
   ]
  },
  {
   "cell_type": "code",
   "execution_count": 15,
   "id": "apparent-calcium",
   "metadata": {},
   "outputs": [
    {
     "data": {
      "text/plain": [
       "[]"
      ]
     },
     "execution_count": 15,
     "metadata": {},
     "output_type": "execute_result"
    }
   ],
   "source": [
    "if not(os.path.isdir('../data/')):\n",
    "        os.makedirs(os.path.join('../data/'))\n",
    "\n",
    "os.listdir('../data/')"
   ]
  },
  {
   "cell_type": "code",
   "execution_count": 16,
   "id": "executive-syndication",
   "metadata": {},
   "outputs": [
    {
     "name": "stdout",
     "output_type": "stream",
     "text": [
      "1625\n",
      "3250\n"
     ]
    }
   ],
   "source": [
    "if not(os.path.isdir('../data/org_train/')):\n",
    "        os.makedirs(os.path.join('../data/org_train/'))\n",
    "\n",
    "# Train data\n",
    "for data in txt_lst[:1625]:\n",
    "    org_data = '../src/' + data\n",
    "    cop_data = '../data/org_train/' + data\n",
    "    \n",
    "    shutil.copyfile(org_data, cop_data)\n",
    "\n",
    "print(len(os.listdir('../data/org_train/')))\n",
    "\n",
    "for data in jpg_lst[:1625]:\n",
    "    org_data = '../src/' + data\n",
    "    cop_data = '../data/org_train/' + data\n",
    "    \n",
    "    shutil.copyfile(org_data, cop_data)\n",
    "\n",
    "print(len(os.listdir('../data/org_train/')))"
   ]
  },
  {
   "cell_type": "code",
   "execution_count": 17,
   "id": "related-definition",
   "metadata": {},
   "outputs": [
    {
     "name": "stdout",
     "output_type": "stream",
     "text": [
      "465\n",
      "930\n"
     ]
    }
   ],
   "source": [
    "if not(os.path.isdir('../data/org_val/')):\n",
    "        os.makedirs(os.path.join('../data/org_val/'))\n",
    "        \n",
    "# Validation data\n",
    "for data in txt_lst[1625:2090]:\n",
    "    org_data = '../src/' + data\n",
    "    cop_data = '../data/org_val/' + data\n",
    "    \n",
    "    shutil.copyfile(org_data, cop_data)\n",
    "\n",
    "print(len(os.listdir('../data/org_val/')))\n",
    "\n",
    "for data in jpg_lst[1625:2090]:\n",
    "    org_data = '../src/' + data\n",
    "    cop_data = '../data/org_val/' + data\n",
    "    \n",
    "    shutil.copyfile(org_data, cop_data)\n",
    "\n",
    "print(len(os.listdir('../data/org_val/')))"
   ]
  },
  {
   "cell_type": "code",
   "execution_count": 18,
   "id": "ready-angel",
   "metadata": {},
   "outputs": [
    {
     "name": "stdout",
     "output_type": "stream",
     "text": [
      "229\n",
      "458\n"
     ]
    }
   ],
   "source": [
    "if not(os.path.isdir('../data/org_test/')):\n",
    "        os.makedirs(os.path.join('../data/org_test/'))\n",
    "\n",
    "# Test data\n",
    "for data in txt_lst[2090:-3]:\n",
    "    org_data = '../src/' + data\n",
    "    cop_data = '../data/org_test/' + data\n",
    "    \n",
    "    shutil.copyfile(org_data, cop_data)\n",
    "\n",
    "print(len(os.listdir('../data/org_test/')))\n",
    "\n",
    "for data in jpg_lst[2090:-3]:\n",
    "    org_data = '../src/' + data\n",
    "    cop_data = '../data/org_test/' + data\n",
    "    \n",
    "    shutil.copyfile(org_data, cop_data)\n",
    "\n",
    "print(len(os.listdir('../data/org_test/')))"
   ]
  },
  {
   "cell_type": "code",
   "execution_count": null,
   "id": "laden-beauty",
   "metadata": {},
   "outputs": [],
   "source": []
  }
 ],
 "metadata": {
  "kernelspec": {
   "display_name": "Python 3",
   "language": "python",
   "name": "python3"
  },
  "language_info": {
   "codemirror_mode": {
    "name": "ipython",
    "version": 3
   },
   "file_extension": ".py",
   "mimetype": "text/x-python",
   "name": "python",
   "nbconvert_exporter": "python",
   "pygments_lexer": "ipython3",
   "version": "3.7.10"
  }
 },
 "nbformat": 4,
 "nbformat_minor": 5
}
