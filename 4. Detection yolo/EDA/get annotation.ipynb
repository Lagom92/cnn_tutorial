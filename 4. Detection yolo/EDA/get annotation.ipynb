{
 "cells": [
  {
   "cell_type": "code",
   "execution_count": 51,
   "id": "optical-category",
   "metadata": {},
   "outputs": [],
   "source": [
    "# 라이브러리\n",
    "import os\n",
    "import cv2\n",
    "import pandas as pd\n",
    "from matplotlib import pyplot as plt"
   ]
  },
  {
   "cell_type": "code",
   "execution_count": 52,
   "id": "pointed-commons",
   "metadata": {},
   "outputs": [],
   "source": [
    "# bounding box 좌표 변경하기\n",
    "def cvt_coordinate(center_x, center_y, w, h):\n",
    "    '''\n",
    "    start_x, start_y: 시작 꼭짓점 좌표 (x, y)\n",
    "    end_x, end_y: 종료 꼭짓점 좌표 (x, y)\n",
    "    '''\n",
    "    start_x, end_x = center_x - (w//2), center_x + (w//2)\n",
    "    start_y, end_y = center_y - (h//2), center_y + (h//2)\n",
    "\n",
    "    return str(start_x), str(start_y), str(end_x), str(end_y)"
   ]
  },
  {
   "cell_type": "code",
   "execution_count": 53,
   "id": "numerical-answer",
   "metadata": {},
   "outputs": [
    {
     "data": {
      "text/plain": [
       "4645"
      ]
     },
     "execution_count": 53,
     "metadata": {},
     "output_type": "execute_result"
    }
   ],
   "source": [
    "# data path 설정\n",
    "DATA_PATH = '../data/'\n",
    "data_list = os.listdir(DATA_PATH)\n",
    "\n",
    "len(data_list)"
   ]
  },
  {
   "cell_type": "code",
   "execution_count": 54,
   "id": "representative-baking",
   "metadata": {},
   "outputs": [
    {
     "name": "stdout",
     "output_type": "stream",
     "text": [
      "2322 2323\n"
     ]
    }
   ],
   "source": [
    "# 이미지와 라벨 데이터 \n",
    "img_list = []\n",
    "txt_list = []\n",
    "\n",
    "for data in data_list:\n",
    "    data = DATA_PATH + data\n",
    "    if data.endswith('txt'):\n",
    "        txt_list.append(data)\n",
    "    else:\n",
    "        img_list.append(data)\n",
    "\n",
    "txt_list.sort()\n",
    "img_list.sort()\n",
    "\n",
    "print(len(img_list), len(txt_list))"
   ]
  },
  {
   "cell_type": "code",
   "execution_count": 55,
   "id": "irish-grade",
   "metadata": {},
   "outputs": [
    {
     "data": {
      "text/html": [
       "<div>\n",
       "<style scoped>\n",
       "    .dataframe tbody tr th:only-of-type {\n",
       "        vertical-align: middle;\n",
       "    }\n",
       "\n",
       "    .dataframe tbody tr th {\n",
       "        vertical-align: top;\n",
       "    }\n",
       "\n",
       "    .dataframe thead th {\n",
       "        text-align: right;\n",
       "    }\n",
       "</style>\n",
       "<table border=\"1\" class=\"dataframe\">\n",
       "  <thead>\n",
       "    <tr style=\"text-align: right;\">\n",
       "      <th></th>\n",
       "      <th>class</th>\n",
       "      <th>center_x</th>\n",
       "      <th>center_y</th>\n",
       "      <th>w</th>\n",
       "      <th>h</th>\n",
       "      <th>angle</th>\n",
       "    </tr>\n",
       "  </thead>\n",
       "  <tbody>\n",
       "    <tr>\n",
       "      <th>0</th>\n",
       "      <td>1</td>\n",
       "      <td>530</td>\n",
       "      <td>1880</td>\n",
       "      <td>900</td>\n",
       "      <td>900</td>\n",
       "      <td>0</td>\n",
       "    </tr>\n",
       "    <tr>\n",
       "      <th>1</th>\n",
       "      <td>2</td>\n",
       "      <td>2430</td>\n",
       "      <td>1860</td>\n",
       "      <td>900</td>\n",
       "      <td>900</td>\n",
       "      <td>0</td>\n",
       "    </tr>\n",
       "    <tr>\n",
       "      <th>2</th>\n",
       "      <td>3</td>\n",
       "      <td>690</td>\n",
       "      <td>4960</td>\n",
       "      <td>900</td>\n",
       "      <td>900</td>\n",
       "      <td>0</td>\n",
       "    </tr>\n",
       "    <tr>\n",
       "      <th>3</th>\n",
       "      <td>4</td>\n",
       "      <td>2330</td>\n",
       "      <td>4960</td>\n",
       "      <td>900</td>\n",
       "      <td>900</td>\n",
       "      <td>0</td>\n",
       "    </tr>\n",
       "    <tr>\n",
       "      <th>4</th>\n",
       "      <td>5</td>\n",
       "      <td>1210</td>\n",
       "      <td>7270</td>\n",
       "      <td>540</td>\n",
       "      <td>540</td>\n",
       "      <td>0</td>\n",
       "    </tr>\n",
       "    <tr>\n",
       "      <th>5</th>\n",
       "      <td>6</td>\n",
       "      <td>1830</td>\n",
       "      <td>7270</td>\n",
       "      <td>560</td>\n",
       "      <td>560</td>\n",
       "      <td>0</td>\n",
       "    </tr>\n",
       "  </tbody>\n",
       "</table>\n",
       "</div>"
      ],
      "text/plain": [
       "   class   center_x   center_y    w    h   angle\n",
       "0      1        530       1880  900  900       0\n",
       "1      2       2430       1860  900  900       0\n",
       "2      3        690       4960  900  900       0\n",
       "3      4       2330       4960  900  900       0\n",
       "4      5       1210       7270  540  540       0\n",
       "5      6       1830       7270  560  560       0"
      ]
     },
     "execution_count": 55,
     "metadata": {},
     "output_type": "execute_result"
    }
   ],
   "source": [
    "# 라벨\n",
    "df = pd.read_csv(txt_list[0])\n",
    "df"
   ]
  },
  {
   "cell_type": "code",
   "execution_count": 62,
   "id": "christian-oakland",
   "metadata": {},
   "outputs": [
    {
     "name": "stdout",
     "output_type": "stream",
     "text": [
      "Save Annotation txt\n"
     ]
    }
   ],
   "source": [
    "f = open('../data/train_annotation.txt', 'w')\n",
    "# n = len(txt_list)\n",
    "n = 101\n",
    "anno_len = 6\n",
    "for i in range(n):\n",
    "    data = []\n",
    "    \n",
    "    title = txt_list[i].split('/')[-1]\n",
    "    title = './data/' + title\n",
    "    title = title[:-3] + 'jpg'\n",
    "#     print(title)\n",
    "    \n",
    "    df = pd.read_csv(txt_list[i])    \n",
    "    for j in range(anno_len):\n",
    "        val = df.iloc[j].tolist()\n",
    "        center_x, center_y, w, h = val[1], val[2], val[3], val[4]\n",
    "        start_x, start_y, end_x, end_y = cvt_coordinate(center_x, center_y, w, h)\n",
    "        coordinate = [start_x, start_y, end_x, end_y, str(val[0])]        \n",
    "        data.extend(coordinate)\n",
    "        \n",
    "    res = ','.join(data)    \n",
    "    res = title + ' ' + res + '\\n'\n",
    "    f.write(res)\n",
    "f.close()\n",
    "print(\"Save Annotation txt\")"
   ]
  },
  {
   "cell_type": "code",
   "execution_count": null,
   "id": "allied-liability",
   "metadata": {},
   "outputs": [],
   "source": []
  },
  {
   "cell_type": "code",
   "execution_count": null,
   "id": "pending-direction",
   "metadata": {},
   "outputs": [],
   "source": []
  },
  {
   "cell_type": "code",
   "execution_count": null,
   "id": "invisible-italy",
   "metadata": {},
   "outputs": [],
   "source": []
  },
  {
   "cell_type": "code",
   "execution_count": null,
   "id": "favorite-dating",
   "metadata": {},
   "outputs": [],
   "source": []
  }
 ],
 "metadata": {
  "kernelspec": {
   "display_name": "Python 3",
   "language": "python",
   "name": "python3"
  },
  "language_info": {
   "codemirror_mode": {
    "name": "ipython",
    "version": 3
   },
   "file_extension": ".py",
   "mimetype": "text/x-python",
   "name": "python",
   "nbconvert_exporter": "python",
   "pygments_lexer": "ipython3",
   "version": "3.7.10"
  }
 },
 "nbformat": 4,
 "nbformat_minor": 5
}
