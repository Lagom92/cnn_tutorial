{
 "cells": [
  {
   "cell_type": "markdown",
   "id": "liquid-empire",
   "metadata": {},
   "source": [
    "# Data split\n",
    "\n",
    "train, validation, test = 0.7, 0.2, 0.1"
   ]
  },
  {
   "cell_type": "code",
   "execution_count": 1,
   "id": "bright-president",
   "metadata": {},
   "outputs": [],
   "source": [
    "import os\n",
    "import shutil"
   ]
  },
  {
   "cell_type": "code",
   "execution_count": 2,
   "id": "southeast-commodity",
   "metadata": {},
   "outputs": [
    {
     "data": {
      "text/plain": [
       "4647"
      ]
     },
     "execution_count": 2,
     "metadata": {},
     "output_type": "execute_result"
    }
   ],
   "source": [
    "data_lst = os.listdir('../src')\n",
    "\n",
    "len(data_lst)"
   ]
  },
  {
   "cell_type": "code",
   "execution_count": 3,
   "id": "amended-ghost",
   "metadata": {},
   "outputs": [
    {
     "data": {
      "text/plain": [
       "('train_annotation.txt',\n",
       " 'resized_train_annotation.txt',\n",
       " 'img',\n",
       " '5d70c044e4b0aa5058b2f555.txt')"
      ]
     },
     "execution_count": 3,
     "metadata": {},
     "output_type": "execute_result"
    }
   ],
   "source": [
    "data_lst[-1], data_lst[-2], data_lst[-3], data_lst[-4]"
   ]
  },
  {
   "cell_type": "code",
   "execution_count": 4,
   "id": "manufactured-arrest",
   "metadata": {},
   "outputs": [
    {
     "name": "stdout",
     "output_type": "stream",
     "text": [
      "2322 2322\n"
     ]
    }
   ],
   "source": [
    "txt_lst, jpg_lst = [], []\n",
    "for data in data_lst[:-3]:\n",
    "    if data.endswith('.txt'):\n",
    "        txt_lst.append(data)\n",
    "    elif data.endswith('.jpg'):\n",
    "        jpg_lst.append(data)\n",
    "    else:\n",
    "        pass\n",
    "    \n",
    "txt_lst.sort()\n",
    "jpg_lst.sort()\n",
    "\n",
    "print(len(txt_lst), len(jpg_lst))"
   ]
  },
  {
   "cell_type": "code",
   "execution_count": 14,
   "id": "increasing-theater",
   "metadata": {},
   "outputs": [
    {
     "data": {
      "text/plain": [
       "(1625.3999999999999, 464.40000000000003, 232.20000000000002)"
      ]
     },
     "execution_count": 14,
     "metadata": {},
     "output_type": "execute_result"
    }
   ],
   "source": [
    "# 7:2:1 비율(count 계산)\n",
    "2322*0.7, 2322*0.2, 2322*0.1"
   ]
  },
  {
   "cell_type": "code",
   "execution_count": 6,
   "id": "accessory-portsmouth",
   "metadata": {},
   "outputs": [
    {
     "data": {
      "text/plain": [
       "(2089, 232)"
      ]
     },
     "execution_count": 6,
     "metadata": {},
     "output_type": "execute_result"
    }
   ],
   "source": [
    "# 9:1 비율(count 계산)\n",
    "int(2322*0.9), int(2322*0.1)"
   ]
  },
  {
   "cell_type": "code",
   "execution_count": 7,
   "id": "greater-merchant",
   "metadata": {},
   "outputs": [
    {
     "data": {
      "text/plain": [
       "[]"
      ]
     },
     "execution_count": 7,
     "metadata": {},
     "output_type": "execute_result"
    }
   ],
   "source": [
    "if not(os.path.isdir('../data__/')):\n",
    "        os.makedirs(os.path.join('../data__/'))\n",
    "\n",
    "os.listdir('../data__/')"
   ]
  },
  {
   "cell_type": "code",
   "execution_count": 8,
   "id": "sitting-peoples",
   "metadata": {},
   "outputs": [
    {
     "name": "stdout",
     "output_type": "stream",
     "text": [
      "2089\n",
      "4178\n"
     ]
    }
   ],
   "source": [
    "if not(os.path.isdir('../data__/org_train/')):\n",
    "        os.makedirs(os.path.join('../data__/org_train/'))\n",
    "\n",
    "# Train data\n",
    "for data in txt_lst[:2089]:\n",
    "    org_data = '../src/' + data\n",
    "    cop_data = '../data__/org_train/' + data\n",
    "    \n",
    "    shutil.copyfile(org_data, cop_data)\n",
    "\n",
    "print(len(os.listdir('../data__/org_train/')))\n",
    "\n",
    "for data in jpg_lst[:2089]:\n",
    "    org_data = '../src/' + data\n",
    "    cop_data = '../data__/org_train/' + data\n",
    "    \n",
    "    shutil.copyfile(org_data, cop_data)\n",
    "\n",
    "print(len(os.listdir('../data__/org_train/')))"
   ]
  },
  {
   "cell_type": "code",
   "execution_count": 17,
   "id": "familiar-duplicate",
   "metadata": {},
   "outputs": [
    {
     "name": "stdout",
     "output_type": "stream",
     "text": [
      "465\n",
      "930\n"
     ]
    }
   ],
   "source": [
    "if not(os.path.isdir('../data/org_val/')):\n",
    "        os.makedirs(os.path.join('../data/org_val/'))\n",
    "        \n",
    "# Validation data\n",
    "for data in txt_lst[1625:2090]:\n",
    "    org_data = '../src/' + data\n",
    "    cop_data = '../data/org_val/' + data\n",
    "    \n",
    "    shutil.copyfile(org_data, cop_data)\n",
    "\n",
    "print(len(os.listdir('../data/org_val/')))\n",
    "\n",
    "for data in jpg_lst[1625:2090]:\n",
    "    org_data = '../src/' + data\n",
    "    cop_data = '../data/org_val/' + data\n",
    "    \n",
    "    shutil.copyfile(org_data, cop_data)\n",
    "\n",
    "print(len(os.listdir('../data/org_val/')))"
   ]
  },
  {
   "cell_type": "code",
   "execution_count": 9,
   "id": "abandoned-investigation",
   "metadata": {},
   "outputs": [
    {
     "name": "stdout",
     "output_type": "stream",
     "text": [
      "230\n",
      "460\n"
     ]
    }
   ],
   "source": [
    "if not(os.path.isdir('../data__/org_test/')):\n",
    "        os.makedirs(os.path.join('../data__/org_test/'))\n",
    "\n",
    "# Test data\n",
    "for data in txt_lst[2089:-3]:\n",
    "    org_data = '../src/' + data\n",
    "    cop_data = '../data__/org_test/' + data\n",
    "    \n",
    "    shutil.copyfile(org_data, cop_data)\n",
    "\n",
    "print(len(os.listdir('../data__/org_test/')))\n",
    "\n",
    "for data in jpg_lst[2089:-3]:\n",
    "    org_data = '../src/' + data\n",
    "    cop_data = '../data__/org_test/' + data\n",
    "    \n",
    "    shutil.copyfile(org_data, cop_data)\n",
    "\n",
    "print(len(os.listdir('../data__/org_test/')))"
   ]
  },
  {
   "cell_type": "code",
   "execution_count": null,
   "id": "subsequent-hypothesis",
   "metadata": {},
   "outputs": [],
   "source": []
  }
 ],
 "metadata": {
  "kernelspec": {
   "display_name": "Python 3",
   "language": "python",
   "name": "python3"
  },
  "language_info": {
   "codemirror_mode": {
    "name": "ipython",
    "version": 3
   },
   "file_extension": ".py",
   "mimetype": "text/x-python",
   "name": "python",
   "nbconvert_exporter": "python",
   "pygments_lexer": "ipython3",
   "version": "3.7.10"
  }
 },
 "nbformat": 4,
 "nbformat_minor": 5
}
