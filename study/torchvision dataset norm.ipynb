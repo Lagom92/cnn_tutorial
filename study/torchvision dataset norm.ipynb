{
 "cells": [
  {
   "cell_type": "markdown",
   "id": "responsible-reasoning",
   "metadata": {},
   "source": [
    "# torchvision dataset normalization ?"
   ]
  },
  {
   "cell_type": "markdown",
   "id": "suburban-virtue",
   "metadata": {},
   "source": [
    "classifier를 구현 중 CIFAR10 데이터를 불러오는 부분에서\n",
    "\n",
    "아래의 문장을 봤는데 무슨말인지 모르겠다. \n",
    "\n",
    "- torchvision 데이터셋의 출력(output)은 [0, 1] 범위를 갖는 PILImage 이미지입니다. 이를 [-1, 1]의 범위로 정규화된 Tensor로 변환합니다.\n",
    "\n",
    "출처: https://tutorials.pytorch.kr/beginner/blitz/cifar10_tutorial.html#sphx-glr-beginner-blitz-cifar10-tutorial-py"
   ]
  },
  {
   "cell_type": "markdown",
   "id": "studied-concert",
   "metadata": {},
   "source": [
    "## torchvision.transforms\n",
    "\n",
    "다양한 이미지 변환 기능 제공\n",
    "\n",
    "선처리 하는데 사용됨"
   ]
  },
  {
   "cell_type": "code",
   "execution_count": 6,
   "id": "rotary-patch",
   "metadata": {},
   "outputs": [],
   "source": [
    "import torchvision.transforms as transforms"
   ]
  },
  {
   "cell_type": "markdown",
   "id": "extended-escape",
   "metadata": {},
   "source": [
    "### torchvision.transforms.ToTensor\n",
    "\n",
    "PIL 이미지 또는 numpy.ndarray를 pytorch의 텐서로 변환시켜 준다.\n",
    "\n",
    "(H x W x C) ==> (C x H x W) 로 변경\n",
    "\n",
    "0.0에서 1.0 사이의 값으로 변경"
   ]
  },
  {
   "cell_type": "code",
   "execution_count": 8,
   "id": "perceived-welcome",
   "metadata": {},
   "outputs": [
    {
     "data": {
      "text/plain": [
       "ToTensor()"
      ]
     },
     "execution_count": 8,
     "metadata": {},
     "output_type": "execute_result"
    }
   ],
   "source": [
    "transforms.ToTensor()"
   ]
  },
  {
   "cell_type": "markdown",
   "id": "healthy-taylor",
   "metadata": {},
   "source": [
    "### torchvision.transforms.Normalize(mean, std, inplace=False)\n",
    "\n",
    "평균과 표준편차를 사용하여 이미지를 정규화 시켜준다.\n",
    "\n",
    "input[channel] = (input[channel] - mean[channel]) / std[channel]"
   ]
  },
  {
   "cell_type": "code",
   "execution_count": 7,
   "id": "defined-zealand",
   "metadata": {},
   "outputs": [
    {
     "data": {
      "text/plain": [
       "Normalize(mean=(0.5, 0.5, 0.5), std=(0.5, 0.5, 0.5))"
      ]
     },
     "execution_count": 7,
     "metadata": {},
     "output_type": "execute_result"
    }
   ],
   "source": [
    "transforms.Normalize((0.5, 0.5, 0.5), (0.5, 0.5, 0.5))"
   ]
  },
  {
   "cell_type": "markdown",
   "id": "oriented-seller",
   "metadata": {},
   "source": [
    "### torchvision.transforms.Compose\n",
    "\n",
    "여러 transform들을 compose로 구성할 수 있다."
   ]
  },
  {
   "cell_type": "code",
   "execution_count": 9,
   "id": "ceramic-warner",
   "metadata": {},
   "outputs": [
    {
     "data": {
      "text/plain": [
       "Compose(\n",
       "    ToTensor()\n",
       "    Normalize(mean=(0.5, 0.5, 0.5), std=(0.5, 0.5, 0.5))\n",
       ")"
      ]
     },
     "execution_count": 9,
     "metadata": {},
     "output_type": "execute_result"
    }
   ],
   "source": [
    "transforms.Compose([\n",
    "    transforms.ToTensor(),\n",
    "    transforms.Normalize((0.5, 0.5, 0.5), (0.5, 0.5, 0.5))\n",
    "])"
   ]
  },
  {
   "cell_type": "markdown",
   "id": "strange-dominant",
   "metadata": {},
   "source": [
    "# Understanding transform.Normalize()\n",
    "\n",
    "-1에서 1로 normalize 하면 CNN의 성능이 더 좋아진다.\n",
    "\n",
    "참고: https://discuss.pytorch.org/t/understanding-transform-normalize/21730"
   ]
  },
  {
   "cell_type": "code",
   "execution_count": null,
   "id": "sudden-store",
   "metadata": {},
   "outputs": [],
   "source": []
  }
 ],
 "metadata": {
  "kernelspec": {
   "display_name": "Python 3",
   "language": "python",
   "name": "python3"
  },
  "language_info": {
   "codemirror_mode": {
    "name": "ipython",
    "version": 3
   },
   "file_extension": ".py",
   "mimetype": "text/x-python",
   "name": "python",
   "nbconvert_exporter": "python",
   "pygments_lexer": "ipython3",
   "version": "3.8.5"
  }
 },
 "nbformat": 4,
 "nbformat_minor": 5
}
