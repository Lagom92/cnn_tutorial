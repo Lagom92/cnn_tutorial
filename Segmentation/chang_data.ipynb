{
 "cells": [
  {
   "cell_type": "code",
   "execution_count": 17,
   "id": "molecular-biography",
   "metadata": {},
   "outputs": [],
   "source": [
    "# jupyter lab에서 자동완성이 않될때 사용하는 코드\n",
    "%config Completer.use_jedi = False"
   ]
  },
  {
   "cell_type": "markdown",
   "id": "thorough-consolidation",
   "metadata": {},
   "source": [
    "data 이름 및 경로 변경하기"
   ]
  },
  {
   "cell_type": "code",
   "execution_count": 19,
   "id": "touched-intersection",
   "metadata": {},
   "outputs": [],
   "source": [
    "import os\n",
    "import shutil"
   ]
  },
  {
   "cell_type": "code",
   "execution_count": 21,
   "id": "orange-medicine",
   "metadata": {},
   "outputs": [],
   "source": [
    "path = './data/left_knee/'\n",
    "knee_lst = os.listdir(path)"
   ]
  },
  {
   "cell_type": "code",
   "execution_count": 28,
   "id": "innocent-hypothesis",
   "metadata": {},
   "outputs": [],
   "source": [
    "os.mkdir('./data/train')\n",
    "for knee in knee_lst:\n",
    "    newName = f\"./data/train/lf_{knee}\"\n",
    "    shutil.copy(path+knee, newName)"
   ]
  },
  {
   "cell_type": "code",
   "execution_count": 30,
   "id": "understanding-hybrid",
   "metadata": {},
   "outputs": [],
   "source": [
    "path = './data/right_knee/'\n",
    "knee_lst = os.listdir(path)\n",
    "\n",
    "for knee in knee_lst:\n",
    "    newName = f\"./data/train/rt_{knee}\"\n",
    "    shutil.copy(path+knee, newName)"
   ]
  },
  {
   "cell_type": "code",
   "execution_count": 31,
   "id": "administrative-identifier",
   "metadata": {},
   "outputs": [
    {
     "data": {
      "text/plain": [
       "1260"
      ]
     },
     "execution_count": 31,
     "metadata": {},
     "output_type": "execute_result"
    }
   ],
   "source": [
    "len(os.listdir('./data/train'))"
   ]
  },
  {
   "cell_type": "code",
   "execution_count": null,
   "id": "tropical-designer",
   "metadata": {},
   "outputs": [],
   "source": []
  }
 ],
 "metadata": {
  "kernelspec": {
   "display_name": "Python 3",
   "language": "python",
   "name": "python3"
  },
  "language_info": {
   "codemirror_mode": {
    "name": "ipython",
    "version": 3
   },
   "file_extension": ".py",
   "mimetype": "text/x-python",
   "name": "python",
   "nbconvert_exporter": "python",
   "pygments_lexer": "ipython3",
   "version": "3.8.5"
  }
 },
 "nbformat": 4,
 "nbformat_minor": 5
}
