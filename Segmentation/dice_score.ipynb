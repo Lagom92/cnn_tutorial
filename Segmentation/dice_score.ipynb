{
 "cells": [
  {
   "cell_type": "code",
   "execution_count": 54,
   "id": "distant-functionality",
   "metadata": {},
   "outputs": [],
   "source": [
    "# jupyter lab에서 자동완성이 않될때 사용하는 코드\n",
    "%config Completer.use_jedi = False"
   ]
  },
  {
   "cell_type": "markdown",
   "id": "incoming-recommendation",
   "metadata": {},
   "source": [
    "# calcurate dice score"
   ]
  },
  {
   "cell_type": "markdown",
   "id": "monthly-correlation",
   "metadata": {},
   "source": [
    "### Reference\n",
    "\n",
    "- https://gist.github.com/brunodoamaral/e130b4e97aa4ebc468225b7ce39b3137"
   ]
  },
  {
   "cell_type": "code",
   "execution_count": 55,
   "id": "arbitrary-wright",
   "metadata": {},
   "outputs": [],
   "source": [
    "def dice(im1, im2, empty_score=1.0):\n",
    "    \"\"\"\n",
    "    Computes the Dice coefficient, a measure of set similarity.\n",
    "    Parameters\n",
    "    ----------\n",
    "    im1 : array-like, bool\n",
    "        Any array of arbitrary size. If not boolean, will be converted.\n",
    "    im2 : array-like, bool\n",
    "        Any other array of identical size. If not boolean, will be converted.\n",
    "    Returns\n",
    "    -------\n",
    "    dice : float\n",
    "        Dice coefficient as a float on range [0,1].\n",
    "        Maximum similarity = 1\n",
    "        No similarity = 0\n",
    "        Both are empty (sum eq to zero) = empty_score\n",
    "        \n",
    "    Notes\n",
    "    -----\n",
    "    The order of inputs for `dice` is irrelevant. The result will be\n",
    "    identical if `im1` and `im2` are switched.\n",
    "    \"\"\"\n",
    "    im1 = np.asarray(im1).astype(np.bool)\n",
    "    im2 = np.asarray(im2).astype(np.bool)\n",
    "\n",
    "    if im1.shape != im2.shape:\n",
    "        raise ValueError(\"Shape mismatch: im1 and im2 must have the same shape.\")\n",
    "\n",
    "    im_sum = im1.sum() + im2.sum()\n",
    "    if im_sum == 0:\n",
    "        return empty_score\n",
    "\n",
    "    # Compute Dice coefficient\n",
    "    intersection = np.logical_and(im1, im2)\n",
    "\n",
    "    return 2. * intersection.sum() / im_sum"
   ]
  },
  {
   "cell_type": "code",
   "execution_count": 79,
   "id": "falling-russell",
   "metadata": {},
   "outputs": [],
   "source": [
    "import os\n",
    "from PIL import Image\n",
    "import numpy as np\n",
    "import torch\n",
    "import matplotlib.pyplot as plt"
   ]
  },
  {
   "cell_type": "code",
   "execution_count": 80,
   "id": "fluid-broad",
   "metadata": {},
   "outputs": [
    {
     "name": "stdout",
     "output_type": "stream",
     "text": [
      "./result/0_inputs.png ./result/0_labels.png ./result/0_pred.png\n"
     ]
    }
   ],
   "source": [
    "path = './result/'\n",
    "result_lst = os.listdir(path)\n",
    "\n",
    "inputs_path, labels_path, pred_path = path+result_lst[1], path+result_lst[2], path+result_lst[3]\n",
    "\n",
    "print(inputs_path, labels_path, pred_path)"
   ]
  },
  {
   "cell_type": "code",
   "execution_count": 81,
   "id": "loaded-council",
   "metadata": {},
   "outputs": [],
   "source": [
    "label = Image.open(labels_path).convert('1')\n",
    "pred = Image.open(pred_path).convert('1')"
   ]
  },
  {
   "cell_type": "code",
   "execution_count": 82,
   "id": "powerful-mongolia",
   "metadata": {},
   "outputs": [
    {
     "data": {
      "text/plain": [
       "1.0"
      ]
     },
     "execution_count": 82,
     "metadata": {},
     "output_type": "execute_result"
    }
   ],
   "source": [
    "dice(label, label)"
   ]
  },
  {
   "cell_type": "code",
   "execution_count": 83,
   "id": "otherwise-validity",
   "metadata": {},
   "outputs": [
    {
     "data": {
      "text/plain": [
       "0.8803202034938091"
      ]
     },
     "execution_count": 83,
     "metadata": {},
     "output_type": "execute_result"
    }
   ],
   "source": [
    "dice(label, pred)"
   ]
  },
  {
   "cell_type": "code",
   "execution_count": 84,
   "id": "documentary-validity",
   "metadata": {},
   "outputs": [
    {
     "data": {
      "image/png": "[encoded data removed]",
      "text/plain": [
       "<Figure size 432x288 with 2 Axes>"
      ]
     },
     "metadata": {
      "needs_background": "light"
     },
     "output_type": "display_data"
    }
   ],
   "source": [
    "plt.subplot(121)\n",
    "plt.imshow(label)\n",
    "\n",
    "plt.subplot(122)\n",
    "plt.imshow(pred)\n",
    "\n",
    "plt.show()"
   ]
  },
  {
   "cell_type": "code",
   "execution_count": 66,
   "id": "german-butterfly",
   "metadata": {},
   "outputs": [
    {
     "data": {
      "text/plain": [
       "['8_inputs.png', '8_labels.png', '8_pred.png']"
      ]
     },
     "execution_count": 66,
     "metadata": {},
     "output_type": "execute_result"
    }
   ],
   "source": [
    "lst = [i for i in result_lst if i.startswith('8')]\n",
    "lst"
   ]
  },
  {
   "cell_type": "code",
   "execution_count": 68,
   "id": "confident-prize",
   "metadata": {},
   "outputs": [
    {
     "name": "stdout",
     "output_type": "stream",
     "text": [
      "./result/8_inputs.png ./result/8_labels.png ./result/8_pred.png\n"
     ]
    }
   ],
   "source": [
    "inputs_path, labels_path, pred_path = path+lst[0], path+lst[1], path+lst[2]\n",
    "\n",
    "print(inputs_path, labels_path, pred_path)"
   ]
  },
  {
   "cell_type": "code",
   "execution_count": 69,
   "id": "perceived-drain",
   "metadata": {},
   "outputs": [],
   "source": [
    "label = Image.open(labels_path).convert('1')\n",
    "pred = Image.open(pred_path).convert('1')"
   ]
  },
  {
   "cell_type": "code",
   "execution_count": 70,
   "id": "determined-violation",
   "metadata": {},
   "outputs": [
    {
     "data": {
      "text/plain": [
       "0.9486171291087918"
      ]
     },
     "execution_count": 70,
     "metadata": {},
     "output_type": "execute_result"
    }
   ],
   "source": [
    "dice(label, pred)"
   ]
  },
  {
   "cell_type": "code",
   "execution_count": 78,
   "id": "athletic-charles",
   "metadata": {},
   "outputs": [
    {
     "data": {
      "image/png": "[encoded data removed]",
      "text/plain": [
       "<Figure size 432x288 with 2 Axes>"
      ]
     },
     "metadata": {
      "needs_background": "light"
     },
     "output_type": "display_data"
    }
   ],
   "source": [
    "plt.subplot(121)\n",
    "plt.imshow(label)\n",
    "\n",
    "plt.subplot(122)\n",
    "plt.imshow(pred)\n",
    "\n",
    "plt.show()"
   ]
  },
  {
   "cell_type": "code",
   "execution_count": 95,
   "id": "positive-pressure",
   "metadata": {},
   "outputs": [
    {
     "name": "stdout",
     "output_type": "stream",
     "text": [
      "./result/5_inputs.png ./result/5_labels.png ./result/5_pred.png\n",
      "Dice:  0.8615755990847143\n"
     ]
    },
    {
     "data": {
      "image/png": "[encoded data removed]",
      "text/plain": [
       "<Figure size 432x288 with 2 Axes>"
      ]
     },
     "metadata": {
      "needs_background": "light"
     },
     "output_type": "display_data"
    }
   ],
   "source": [
    "lst = [i for i in result_lst if i.startswith('5')]\n",
    "lst\n",
    "inputs_path, labels_path, pred_path = path+lst[0], path+lst[1], path+lst[2]\n",
    "\n",
    "print(inputs_path, labels_path, pred_path)\n",
    "\n",
    "label = Image.open(labels_path).convert('1')\n",
    "pred = Image.open(pred_path).convert('1')\n",
    "\n",
    "print(\"Dice: \", dice(label, pred))\n",
    "\n",
    "plt.subplot(121)\n",
    "plt.imshow(label)\n",
    "\n",
    "plt.subplot(122)\n",
    "plt.imshow(pred)\n",
    "\n",
    "plt.show()"
   ]
  },
  {
   "cell_type": "code",
   "execution_count": null,
   "id": "accessory-algeria",
   "metadata": {},
   "outputs": [],
   "source": []
  }
 ],
 "metadata": {
  "kernelspec": {
   "display_name": "Python 3",
   "language": "python",
   "name": "python3"
  },
  "language_info": {
   "codemirror_mode": {
    "name": "ipython",
    "version": 3
   },
   "file_extension": ".py",
   "mimetype": "text/x-python",
   "name": "python",
   "nbconvert_exporter": "python",
   "pygments_lexer": "ipython3",
   "version": "3.8.5"
  }
 },
 "nbformat": 4,
 "nbformat_minor": 5
}
