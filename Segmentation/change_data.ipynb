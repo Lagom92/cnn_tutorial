{
 "cells": [
  {
   "cell_type": "code",
   "execution_count": 1,
   "id": "uniform-planet",
   "metadata": {},
   "outputs": [],
   "source": [
    "# jupyter lab에서 자동완성이 않될때 사용하는 코드\n",
    "%config Completer.use_jedi = False"
   ]
  },
  {
   "cell_type": "markdown",
   "id": "binding-bubble",
   "metadata": {},
   "source": [
    "# data 이름 및 경로 변경하기\n",
    "\n",
    "- left knee and right knee 합치기\n",
    "\n",
    "- train / validation 분리"
   ]
  },
  {
   "cell_type": "code",
   "execution_count": 2,
   "id": "growing-toyota",
   "metadata": {},
   "outputs": [],
   "source": [
    "import os\n",
    "import shutil"
   ]
  },
  {
   "cell_type": "markdown",
   "id": "engaged-solomon",
   "metadata": {},
   "source": [
    "### Left Knee"
   ]
  },
  {
   "cell_type": "code",
   "execution_count": 4,
   "id": "steady-quarterly",
   "metadata": {},
   "outputs": [
    {
     "data": {
      "text/plain": [
       "630"
      ]
     },
     "execution_count": 4,
     "metadata": {},
     "output_type": "execute_result"
    }
   ],
   "source": [
    "path = './data/left_knee/'\n",
    "knee_lst = os.listdir(path)\n",
    "n = len(knee_lst)\n",
    "n"
   ]
  },
  {
   "cell_type": "code",
   "execution_count": 8,
   "id": "married-hypothesis",
   "metadata": {},
   "outputs": [],
   "source": [
    "# os.mkdir('./data/train')\n",
    "for knee in knee_lst[:504]:\n",
    "    newName = f\"./data/train_knee/lf_{knee}\"\n",
    "    shutil.copy(path+knee, newName)"
   ]
  },
  {
   "cell_type": "code",
   "execution_count": 9,
   "id": "covered-thunder",
   "metadata": {},
   "outputs": [
    {
     "data": {
      "text/plain": [
       "504"
      ]
     },
     "execution_count": 9,
     "metadata": {},
     "output_type": "execute_result"
    }
   ],
   "source": [
    "len(os.listdir('./data/train_knee'))"
   ]
  },
  {
   "cell_type": "code",
   "execution_count": 10,
   "id": "measured-occasion",
   "metadata": {},
   "outputs": [],
   "source": [
    "for knee in knee_lst[504:]:\n",
    "    newName = f\"./data/validation_knee/lf_{knee}\"\n",
    "    shutil.copy(path+knee, newName)"
   ]
  },
  {
   "cell_type": "code",
   "execution_count": 11,
   "id": "centered-cisco",
   "metadata": {},
   "outputs": [
    {
     "data": {
      "text/plain": [
       "126"
      ]
     },
     "execution_count": 11,
     "metadata": {},
     "output_type": "execute_result"
    }
   ],
   "source": [
    "len(os.listdir('./data/validation_knee'))"
   ]
  },
  {
   "cell_type": "markdown",
   "id": "level-slovakia",
   "metadata": {},
   "source": [
    "### Right Knee"
   ]
  },
  {
   "cell_type": "code",
   "execution_count": 13,
   "id": "demographic-eugene",
   "metadata": {},
   "outputs": [],
   "source": [
    "path = './data/right_knee/'\n",
    "knee_lst = os.listdir(path)"
   ]
  },
  {
   "cell_type": "code",
   "execution_count": 14,
   "id": "sweet-gibraltar",
   "metadata": {},
   "outputs": [],
   "source": [
    "for knee in knee_lst[:504]:\n",
    "    newName = f\"./data/train_knee/rt_{knee}\"\n",
    "    shutil.copy(path+knee, newName)"
   ]
  },
  {
   "cell_type": "code",
   "execution_count": 15,
   "id": "governing-grave",
   "metadata": {},
   "outputs": [
    {
     "data": {
      "text/plain": [
       "1008"
      ]
     },
     "execution_count": 15,
     "metadata": {},
     "output_type": "execute_result"
    }
   ],
   "source": [
    "len(os.listdir('./data/train_knee'))"
   ]
  },
  {
   "cell_type": "code",
   "execution_count": 16,
   "id": "aggressive-rwanda",
   "metadata": {},
   "outputs": [],
   "source": [
    "for knee in knee_lst[504:]:\n",
    "    newName = f\"./data/validation_knee/rt_{knee}\"\n",
    "    shutil.copy(path+knee, newName)"
   ]
  },
  {
   "cell_type": "code",
   "execution_count": 17,
   "id": "naked-warehouse",
   "metadata": {},
   "outputs": [
    {
     "data": {
      "text/plain": [
       "252"
      ]
     },
     "execution_count": 17,
     "metadata": {},
     "output_type": "execute_result"
    }
   ],
   "source": [
    "len(os.listdir('./data/validation_knee'))"
   ]
  },
  {
   "cell_type": "code",
   "execution_count": null,
   "id": "about-stuart",
   "metadata": {},
   "outputs": [],
   "source": []
  }
 ],
 "metadata": {
  "kernelspec": {
   "display_name": "Python 3",
   "language": "python",
   "name": "python3"
  },
  "language_info": {
   "codemirror_mode": {
    "name": "ipython",
    "version": 3
   },
   "file_extension": ".py",
   "mimetype": "text/x-python",
   "name": "python",
   "nbconvert_exporter": "python",
   "pygments_lexer": "ipython3",
   "version": "3.8.5"
  }
 },
 "nbformat": 4,
 "nbformat_minor": 5
}
