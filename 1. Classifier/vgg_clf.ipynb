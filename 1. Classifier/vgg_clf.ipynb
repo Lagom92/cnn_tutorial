{
 "cells": [
  {
   "cell_type": "markdown",
   "id": "equal-slope",
   "metadata": {},
   "source": [
    "# Classifier using VGGNet"
   ]
  },
  {
   "cell_type": "code",
   "execution_count": null,
   "id": "important-trick",
   "metadata": {},
   "outputs": [],
   "source": [
    "# jupyter lab에서 자동완성이 않될때 사용하는 코드\n",
    "# %config Completer.use_jedi = False"
   ]
  },
  {
   "cell_type": "code",
   "execution_count": null,
   "id": "binding-dependence",
   "metadata": {},
   "outputs": [],
   "source": [
    "!nvidia-smi"
   ]
  },
  {
   "cell_type": "code",
   "execution_count": null,
   "id": "raising-probability",
   "metadata": {},
   "outputs": [],
   "source": [
    "import torch\n",
    "\n",
    "# 현재 Setup 되어있는 device 확인\n",
    "device = torch.device('cuda' if torch.cuda.is_available() else 'cpu')\n",
    "print ('Available devices ', torch.cuda.device_count())\n",
    "print ('Current cuda device ', torch.cuda.current_device())\n",
    "print(torch.cuda.get_device_name(device))"
   ]
  },
  {
   "cell_type": "code",
   "execution_count": null,
   "id": "higher-provider",
   "metadata": {},
   "outputs": [],
   "source": [
    "import os\n",
    "\n",
    "os.environ[\"CUDA_VISIBLE_DEVICES\"] = \"0\"\n",
    "device = torch.device('cuda' if torch.cuda.is_available() else 'cpu')"
   ]
  },
  {
   "cell_type": "code",
   "execution_count": null,
   "id": "novel-guidance",
   "metadata": {},
   "outputs": [],
   "source": [
    "device"
   ]
  },
  {
   "cell_type": "code",
   "execution_count": null,
   "id": "incident-teaching",
   "metadata": {},
   "outputs": [],
   "source": [
    "# # GPU 할당 변경하기\n",
    "GPU_NUM = 0 # 원하는 GPU 번호 입력\n",
    "# device = torch.device(f'cuda:{GPU_NUM}' if torch.cuda.is_available() else 'cpu')\n",
    "# torch.cuda.set_device(device) # change allocation of current GPU\n",
    "\n",
    "print ('Current cuda device ', torch.cuda.current_device()) # check\n",
    "\n",
    "# # Additional Infos\n",
    "if device.type == 'cuda':\n",
    "    print(torch.cuda.get_device_name(GPU_NUM))\n",
    "    print('Memory Usage:')\n",
    "    print('Allocated:', round(torch.cuda.memory_allocated(GPU_NUM)/1024**3,1), 'GB')\n",
    "    print('Reserved:   ', round(torch.cuda.memory_reserved(GPU_NUM)/1024**3,1), 'GB')"
   ]
  },
  {
   "cell_type": "code",
   "execution_count": null,
   "id": "formal-peter",
   "metadata": {},
   "outputs": [],
   "source": [
    "import torch\n",
    "import torchvision\n",
    "import torchvision.transforms as transforms\n",
    "# from torchsummary import summary as summary_\n",
    "from tqdm import tqdm\n",
    "from vgg import *"
   ]
  },
  {
   "cell_type": "code",
   "execution_count": null,
   "id": "satisfactory-walter",
   "metadata": {},
   "outputs": [],
   "source": [
    "batch_size = 4\n",
    "epochs = 10"
   ]
  },
  {
   "cell_type": "markdown",
   "id": "smaller-ceiling",
   "metadata": {},
   "source": [
    "### Load CIFAR10 dataset"
   ]
  },
  {
   "cell_type": "code",
   "execution_count": null,
   "id": "burning-thumbnail",
   "metadata": {},
   "outputs": [],
   "source": [
    "transform = transforms.Compose([\n",
    "    transforms.ToTensor(),\n",
    "    transforms.Normalize((0.5, 0.5, 0.5), (0.5, 0.5, 0.5))\n",
    "])\n",
    "\n",
    "trainset = torchvision.datasets.CIFAR10(root='./data', train=True,\n",
    "                                        download=True, transform=transform)\n",
    "trainloader = torch.utils.data.DataLoader(trainset, batch_size=batch_size,\n",
    "                                          shuffle=True, num_workers=2)\n",
    "\n",
    "testset = torchvision.datasets.CIFAR10(root='./data', train=False,\n",
    "                                       download=True, transform=transform)\n",
    "testloader = torch.utils.data.DataLoader(testset, batch_size=batch_size,\n",
    "                                         shuffle=False, num_workers=2)\n",
    "\n",
    "classes = ('plane', 'car', 'bird', 'cat',\n",
    "           'deer', 'dog', 'frog', 'horse', 'ship', 'truck')"
   ]
  },
  {
   "cell_type": "markdown",
   "id": "starting-virginia",
   "metadata": {},
   "source": [
    "### VGGNet"
   ]
  },
  {
   "cell_type": "code",
   "execution_count": null,
   "id": "valuable-coast",
   "metadata": {},
   "outputs": [],
   "source": [
    "# vgg16 = VGG(make_layers(cfg['vgg16']), num_classes=10, init_weight=True)"
   ]
  },
  {
   "cell_type": "code",
   "execution_count": null,
   "id": "anticipated-greensboro",
   "metadata": {},
   "outputs": [],
   "source": [
    "# summary_(vgg16, (3, 32, 32))"
   ]
  },
  {
   "cell_type": "code",
   "execution_count": null,
   "id": "isolated-drink",
   "metadata": {},
   "outputs": [],
   "source": [
    "import math\n",
    "\n",
    "class VGGNet(nn.Module):\n",
    "    def __init__(self, num_classes):\n",
    "        super(VGGNet, self).__init__()\n",
    "        self.features = nn.Sequential(\n",
    "            nn.Conv2d(3, 32, 3, padding=1),  # Conv1\n",
    "            nn.ReLU(True),\n",
    "            nn.Conv2d(32, 32, 3, padding=1),  # Conv2\n",
    "            nn.ReLU(True),\n",
    "            nn.MaxPool2d(2, 2),  # Pool1\n",
    "\n",
    "            nn.Conv2d(32, 64, 3, padding=1),  # Conv3\n",
    "            nn.ReLU(True),\n",
    "            nn.Conv2d(64, 64, 3, padding=1),  # Conv4\n",
    "            nn.ReLU(True),\n",
    "            nn.MaxPool2d(2, 2),  # Pool2\n",
    "\n",
    "            nn.Conv2d(64, 128, 3, padding=1),  # Conv5\n",
    "            nn.ReLU(True),\n",
    "            nn.Conv2d(128, 128, 3, padding=1),  # Conv6\n",
    "            nn.ReLU(True),\n",
    "            nn.Conv2d(128, 128, 3, padding=1),  # Conv7\n",
    "            nn.ReLU(True),\n",
    "            nn.MaxPool2d(2, 2),  # Pool3\n",
    "\n",
    "            nn.Conv2d(128, 256, 3, padding=1),  # Conv8\n",
    "            nn.ReLU(True),\n",
    "            nn.Conv2d(256, 256, 3, padding=1),  # Conv9\n",
    "            nn.ReLU(True),\n",
    "            nn.Conv2d(256, 256, 3, padding=1),  # Conv10\n",
    "            nn.ReLU(True),\n",
    "            nn.MaxPool2d(2, 2),  # Pool4\n",
    "\n",
    "            nn.Conv2d(256, 256, 3, padding=1),  # Conv11\n",
    "            nn.ReLU(True),\n",
    "            nn.Conv2d(256, 256, 3, padding=1),  # Conv12\n",
    "            nn.ReLU(True),\n",
    "            nn.Conv2d(256, 256, 3, padding=1),  # Conv13\n",
    "            nn.ReLU(True),\n",
    "            # nn.MaxPool2d(2, 2) \n",
    "        )\n",
    "\n",
    "        self.classifier = nn.Sequential(\n",
    "            nn.Linear(2 * 2 * 256, 512),\n",
    "            nn.ReLU(True),\n",
    "            nn.Dropout(),\n",
    "            nn.Linear(512, 512),\n",
    "            nn.ReLU(True),\n",
    "            nn.Dropout(),\n",
    "            nn.Linear(512, num_classes),\n",
    "        )\n",
    "        self._initialize_weights()\n",
    "\n",
    "    def _initialize_weights(self):\n",
    "        for m in self.modules():\n",
    "            if isinstance(m, nn.Conv2d):\n",
    "                n = m.kernel_size[0] * m.kernel_size[1] * m.out_channels\n",
    "                m.weight.data.normal_(0, math.sqrt(2. / n))\n",
    "                if m.bias is not None:\n",
    "                    m.bias.data.zero_()\n",
    "            elif isinstance(m, nn.BatchNorm2d):\n",
    "                m.weight.data.fill_(1)\n",
    "                m.bias.data.zero_()\n",
    "            elif isinstance(m, nn.Linear):\n",
    "                m.weight.data.normal_(0, 0.01)\n",
    "                m.bias.data.zero_()\n",
    "\n",
    "    def forward(self, x):\n",
    "        x = self.features(x)\n",
    "        x = x.view(x.size(0), -1)\n",
    "        x = self.classifier(x)\n",
    "        return x"
   ]
  },
  {
   "cell_type": "code",
   "execution_count": null,
   "id": "ambient-eligibility",
   "metadata": {},
   "outputs": [],
   "source": [
    "vgg16 = VGGNet(10).to(device)"
   ]
  },
  {
   "cell_type": "markdown",
   "id": "vanilla-excitement",
   "metadata": {},
   "source": [
    "### 이하는 이전 코드와 동일\n",
    "\n",
    "참고: ./Training_a_classifier.ipynb"
   ]
  },
  {
   "cell_type": "code",
   "execution_count": null,
   "id": "neural-default",
   "metadata": {},
   "outputs": [],
   "source": [
    "# 손실함수와 optimizer\n",
    "import torch.optim as optim\n",
    "\n",
    "criterion = nn.CrossEntropyLoss()\n",
    "optimizer = optim.SGD(vgg16.parameters(), lr=0.0001, momentum=0.9)"
   ]
  },
  {
   "cell_type": "code",
   "execution_count": null,
   "id": "addressed-twenty",
   "metadata": {},
   "outputs": [],
   "source": [
    "# Training\n",
    "for epoch in tqdm(range(epochs)):\n",
    "    running_loss = 0.0\n",
    "    \n",
    "    for i, data in enumerate(trainloader, 0):\n",
    "        inputs, labels = data[0].to(device), data[1].to(device)\n",
    "\n",
    "        # 변화도(Gradient) 매개변수를 0으로 만들고\n",
    "        optimizer.zero_grad()\n",
    "\n",
    "        # 순전파 + 역전파 + 최적화를 한 후\n",
    "        outputs = vgg16(inputs)\n",
    "        loss = criterion(outputs, labels)\n",
    "        loss.backward()\n",
    "        optimizer.step()\n",
    "\n",
    "        # 통계를 출력합니다.\n",
    "#         running_loss += loss.item()\n",
    "#         if i % 2000 == 1999:    # print every 2000 mini-batches\n",
    "#             print('[%d, %5d] loss: %.3f' %\n",
    "#                   (epoch + 1, i + 1, running_loss / 2000))\n",
    "#             running_loss = 0.0\n",
    "    print(f\"{epoch+1} epoch, loss: {loss.item():.3f}\")"
   ]
  },
  {
   "cell_type": "code",
   "execution_count": null,
   "id": "intellectual-estate",
   "metadata": {},
   "outputs": [],
   "source": [
    "# 학습된 모델 저장\n",
    "PATH = './vgg16.pth'\n",
    "torch.save(vgg16.state_dict(), PATH)"
   ]
  },
  {
   "cell_type": "code",
   "execution_count": null,
   "id": "complimentary-imagination",
   "metadata": {},
   "outputs": [],
   "source": []
  }
 ],
 "metadata": {
  "kernelspec": {
   "display_name": "Python 3",
   "language": "python",
   "name": "python3"
  },
  "language_info": {
   "codemirror_mode": {
    "name": "ipython",
    "version": 3
   },
   "file_extension": ".py",
   "mimetype": "text/x-python",
   "name": "python",
   "nbconvert_exporter": "python",
   "pygments_lexer": "ipython3",
   "version": "3.6.12"
  }
 },
 "nbformat": 4,
 "nbformat_minor": 5
}